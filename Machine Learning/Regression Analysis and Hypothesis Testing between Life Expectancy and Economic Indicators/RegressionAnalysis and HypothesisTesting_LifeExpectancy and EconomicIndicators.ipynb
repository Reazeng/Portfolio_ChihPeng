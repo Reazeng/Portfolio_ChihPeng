{
 "cells": [
  {
   "cell_type": "markdown",
   "metadata": {},
   "source": [
    "### **Regression Analysis and Hypothesis Testing of Life Expectancy between Economic Indicators**"
   ]
  },
  {
   "cell_type": "code",
   "execution_count": 115,
   "metadata": {},
   "outputs": [],
   "source": [
    "import pandas as pd\n",
    "import numpy as np\n",
    "%matplotlib inline\n",
    "import matplotlib.pyplot as plt\n",
    "import seaborn as sns\n",
    "import scipy\n",
    "from sklearn.linear_model import LinearRegression\n",
    "from sklearn.impute import SimpleImputer\n",
    "import statsmodels.api as sma\n",
    "import statsmodels.stats.weightstats as ssw"
   ]
  },
  {
   "cell_type": "markdown",
   "metadata": {},
   "source": [
    "### Import data"
   ]
  },
  {
   "cell_type": "code",
   "execution_count": null,
   "metadata": {},
   "outputs": [],
   "source": [
    "df = pd.read_excel(r'EconomicIndicators2020.xlsx')\n",
    "df.head(5)"
   ]
  },
  {
   "cell_type": "markdown",
   "metadata": {},
   "source": [
    "### Data exploration"
   ]
  },
  {
   "cell_type": "markdown",
   "metadata": {},
   "source": [
    "#### Descriptive Statistics"
   ]
  },
  {
   "cell_type": "code",
   "execution_count": null,
   "metadata": {},
   "outputs": [],
   "source": [
    "df.describe()"
   ]
  },
  {
   "cell_type": "markdown",
   "metadata": {},
   "source": [
    "#### Scatter Plot of each Variables with LifeExpect"
   ]
  },
  {
   "cell_type": "code",
   "execution_count": null,
   "metadata": {},
   "outputs": [],
   "source": [
    "location = 1\n",
    "df_plot = df.drop(['No', 'LifeExpect', 'Country', 'Continent'], axis = 1)\n",
    "plt.figure(figsize = (12, 5))\n",
    "for i, color in zip(df_plot.columns, ['#191970', '#00008B', '#0000CD', 'teal', 'darkcyan', 'c']):\n",
    "    plt.subplot(2, 3, location)\n",
    "    plt.grid()\n",
    "    location += 1\n",
    "    plt.scatter(df[i], df['LifeExpect'], c = color, s = 10)\n",
    "    plt.xlabel(i)\n",
    "    plt.tight_layout()\n",
    "    plt.show"
   ]
  },
  {
   "cell_type": "markdown",
   "metadata": {},
   "source": [
    "### Data analysis"
   ]
  },
  {
   "cell_type": "markdown",
   "metadata": {},
   "source": [
    "#### t-test"
   ]
  },
  {
   "cell_type": "code",
   "execution_count": 61,
   "metadata": {},
   "outputs": [
    {
     "name": "stdout",
     "output_type": "stream",
     "text": [
      "4.825784830727795 3.0106331354163777e-06\n"
     ]
    },
    {
     "data": {
      "text/plain": [
       "2.60405168637032"
      ]
     },
     "execution_count": 61,
     "metadata": {},
     "output_type": "execute_result"
    }
   ],
   "source": [
    "confidence = 0.99\n",
    "value = 70\n",
    "LifeExpect = np.array(df['LifeExpect'])\n",
    "\n",
    "t_score, p_value = scipy.stats.ttest_1samp(LifeExpect, value)\n",
    "print(t_score, p_value)\n",
    "\n",
    "scipy.stats.t.ppf(1 - 0.01 / 2, 176)"
   ]
  },
  {
   "cell_type": "markdown",
   "metadata": {},
   "source": [
    "#### z-test"
   ]
  },
  {
   "cell_type": "code",
   "execution_count": null,
   "metadata": {},
   "outputs": [],
   "source": [
    "confidence = 0.99\n",
    "value = 70\n",
    "LifeExpect = np.array(df['LifeExpect'])\n",
    "\n",
    "ssw.ztest(LifeExpect, value = value, alternative = 'two-sided')"
   ]
  },
  {
   "cell_type": "markdown",
   "metadata": {},
   "source": [
    "#### Scatter Plot"
   ]
  },
  {
   "cell_type": "code",
   "execution_count": null,
   "metadata": {},
   "outputs": [],
   "source": [
    "GDPPC = np.array(df['GDPPC']).reshape(-1, 1)\n",
    "\n",
    "fig = plt.figure()\n",
    "ax = plt.axes()\n",
    "grid = plt.grid()\n",
    "\n",
    "plt.scatter(GDPPC, LifeExpect, c = 'navy', s = 15)"
   ]
  },
  {
   "cell_type": "markdown",
   "metadata": {},
   "source": [
    "#### Regression analysis"
   ]
  },
  {
   "cell_type": "code",
   "execution_count": 78,
   "metadata": {},
   "outputs": [
    {
     "name": "stdout",
     "output_type": "stream",
     "text": [
      "0.38432923064188507\n",
      "[0.00018879]\n",
      "69.53824853766625\n"
     ]
    }
   ],
   "source": [
    "model = LinearRegression()\n",
    "model.fit(GDPPC, LifeExpect)\n",
    "\n",
    "r_square_3 = model.score(GDPPC, LifeExpect)\n",
    "coefficent_3 = model.coef_\n",
    "intercept_3 = model.intercept_\n",
    "\n",
    "print(r_square_3)\n",
    "print(coefficent_3)\n",
    "print(intercept_3)"
   ]
  },
  {
   "cell_type": "code",
   "execution_count": 92,
   "metadata": {},
   "outputs": [
    {
     "data": {
      "text/html": [
       "<table class=\"simpletable\">\n",
       "<caption>OLS Regression Results</caption>\n",
       "<tr>\n",
       "  <th>Dep. Variable:</th>            <td>y</td>        <th>  R-squared:         </th> <td>   0.384</td>\n",
       "</tr>\n",
       "<tr>\n",
       "  <th>Model:</th>                   <td>OLS</td>       <th>  Adj. R-squared:    </th> <td>   0.381</td>\n",
       "</tr>\n",
       "<tr>\n",
       "  <th>Method:</th>             <td>Least Squares</td>  <th>  F-statistic:       </th> <td>   109.2</td>\n",
       "</tr>\n",
       "<tr>\n",
       "  <th>Date:</th>             <td>Sat, 25 Nov 2023</td> <th>  Prob (F-statistic):</th> <td>3.56e-20</td>\n",
       "</tr>\n",
       "<tr>\n",
       "  <th>Time:</th>                 <td>15:21:45</td>     <th>  Log-Likelihood:    </th> <td> -561.07</td>\n",
       "</tr>\n",
       "<tr>\n",
       "  <th>No. Observations:</th>      <td>   177</td>      <th>  AIC:               </th> <td>   1126.</td>\n",
       "</tr>\n",
       "<tr>\n",
       "  <th>Df Residuals:</th>          <td>   175</td>      <th>  BIC:               </th> <td>   1133.</td>\n",
       "</tr>\n",
       "<tr>\n",
       "  <th>Df Model:</th>              <td>     1</td>      <th>                     </th>     <td> </td>   \n",
       "</tr>\n",
       "<tr>\n",
       "  <th>Covariance Type:</th>      <td>nonrobust</td>    <th>                     </th>     <td> </td>   \n",
       "</tr>\n",
       "</table>\n",
       "<table class=\"simpletable\">\n",
       "<tr>\n",
       "    <td></td>       <th>coef</th>     <th>std err</th>      <th>t</th>      <th>P>|t|</th>  <th>[0.025</th>    <th>0.975]</th>  \n",
       "</tr>\n",
       "<tr>\n",
       "  <th>const</th> <td>   69.5382</td> <td>    0.529</td> <td>  131.555</td> <td> 0.000</td> <td>   68.495</td> <td>   70.581</td>\n",
       "</tr>\n",
       "<tr>\n",
       "  <th>x1</th>    <td>    0.0002</td> <td> 1.81e-05</td> <td>   10.452</td> <td> 0.000</td> <td>    0.000</td> <td>    0.000</td>\n",
       "</tr>\n",
       "</table>\n",
       "<table class=\"simpletable\">\n",
       "<tr>\n",
       "  <th>Omnibus:</th>       <td>21.907</td> <th>  Durbin-Watson:     </th> <td>   1.977</td>\n",
       "</tr>\n",
       "<tr>\n",
       "  <th>Prob(Omnibus):</th> <td> 0.000</td> <th>  Jarque-Bera (JB):  </th> <td>  26.132</td>\n",
       "</tr>\n",
       "<tr>\n",
       "  <th>Skew:</th>          <td>-0.921</td> <th>  Prob(JB):          </th> <td>2.12e-06</td>\n",
       "</tr>\n",
       "<tr>\n",
       "  <th>Kurtosis:</th>      <td> 3.389</td> <th>  Cond. No.          </th> <td>3.55e+04</td>\n",
       "</tr>\n",
       "</table><br/><br/>Notes:<br/>[1] Standard Errors assume that the covariance matrix of the errors is correctly specified.<br/>[2] The condition number is large, 3.55e+04. This might indicate that there are<br/>strong multicollinearity or other numerical problems."
      ],
      "text/plain": [
       "<class 'statsmodels.iolib.summary.Summary'>\n",
       "\"\"\"\n",
       "                            OLS Regression Results                            \n",
       "==============================================================================\n",
       "Dep. Variable:                      y   R-squared:                       0.384\n",
       "Model:                            OLS   Adj. R-squared:                  0.381\n",
       "Method:                 Least Squares   F-statistic:                     109.2\n",
       "Date:                Sat, 25 Nov 2023   Prob (F-statistic):           3.56e-20\n",
       "Time:                        15:21:45   Log-Likelihood:                -561.07\n",
       "No. Observations:                 177   AIC:                             1126.\n",
       "Df Residuals:                     175   BIC:                             1133.\n",
       "Df Model:                           1                                         \n",
       "Covariance Type:            nonrobust                                         \n",
       "==============================================================================\n",
       "                 coef    std err          t      P>|t|      [0.025      0.975]\n",
       "------------------------------------------------------------------------------\n",
       "const         69.5382      0.529    131.555      0.000      68.495      70.581\n",
       "x1             0.0002   1.81e-05     10.452      0.000       0.000       0.000\n",
       "==============================================================================\n",
       "Omnibus:                       21.907   Durbin-Watson:                   1.977\n",
       "Prob(Omnibus):                  0.000   Jarque-Bera (JB):               26.132\n",
       "Skew:                          -0.921   Prob(JB):                     2.12e-06\n",
       "Kurtosis:                       3.389   Cond. No.                     3.55e+04\n",
       "==============================================================================\n",
       "\n",
       "Notes:\n",
       "[1] Standard Errors assume that the covariance matrix of the errors is correctly specified.\n",
       "[2] The condition number is large, 3.55e+04. This might indicate that there are\n",
       "strong multicollinearity or other numerical problems.\n",
       "\"\"\""
      ]
     },
     "execution_count": 92,
     "metadata": {},
     "output_type": "execute_result"
    }
   ],
   "source": [
    "GDPPC_c = sma.add_constant(GDPPC)\n",
    "model_3 = sma.OLS(LifeExpect, GDPPC_c)\n",
    "result_3 = model_3.fit()\n",
    "result_3.summary()"
   ]
  },
  {
   "cell_type": "code",
   "execution_count": 111,
   "metadata": {},
   "outputs": [
    {
     "data": {
      "text/plain": [
       "LinearRegression()"
      ]
     },
     "execution_count": 111,
     "metadata": {},
     "output_type": "execute_result"
    }
   ],
   "source": [
    "data = df.drop(['No', 'Country', 'Continent'], axis = 1)\n",
    "imp = SimpleImputer(strategy = 'mean')\n",
    "data_4 = pd.DataFrame(imp.fit_transform(data), columns = data.columns)\n",
    "\n",
    "LifeExpect_4 = np.array(df['LifeExpect'])\n",
    "\n",
    "model.fit(data_4, LifeExpect_4)"
   ]
  },
  {
   "cell_type": "code",
   "execution_count": 108,
   "metadata": {},
   "outputs": [
    {
     "name": "stdout",
     "output_type": "stream",
     "text": [
      "0.46351181618109816\n",
      "[ 1.06915547e-04 -5.51938968e-06  6.39391392e-05  1.90481979e-06\n",
      "  1.43038046e-03 -4.62839489e-02]\n",
      "69.8219848535168\n"
     ]
    }
   ],
   "source": [
    "r_square_4 = model.score(data_4, LifeExpect_4)\n",
    "coefficent_4 = model.coef_\n",
    "intercept_4 = model.intercept_\n",
    "\n",
    "print(r_square_4)\n",
    "print(coefficent_4)\n",
    "print(intercept_4)"
   ]
  },
  {
   "cell_type": "code",
   "execution_count": 97,
   "metadata": {},
   "outputs": [
    {
     "data": {
      "text/html": [
       "<table class=\"simpletable\">\n",
       "<caption>OLS Regression Results</caption>\n",
       "<tr>\n",
       "  <th>Dep. Variable:</th>            <td>y</td>        <th>  R-squared:         </th> <td>   0.449</td>\n",
       "</tr>\n",
       "<tr>\n",
       "  <th>Model:</th>                   <td>OLS</td>       <th>  Adj. R-squared:    </th> <td>   0.430</td>\n",
       "</tr>\n",
       "<tr>\n",
       "  <th>Method:</th>             <td>Least Squares</td>  <th>  F-statistic:       </th> <td>   23.13</td>\n",
       "</tr>\n",
       "<tr>\n",
       "  <th>Date:</th>             <td>Sat, 25 Nov 2023</td> <th>  Prob (F-statistic):</th> <td>7.23e-20</td>\n",
       "</tr>\n",
       "<tr>\n",
       "  <th>Time:</th>                 <td>15:24:45</td>     <th>  Log-Likelihood:    </th> <td> -551.18</td>\n",
       "</tr>\n",
       "<tr>\n",
       "  <th>No. Observations:</th>      <td>   177</td>      <th>  AIC:               </th> <td>   1116.</td>\n",
       "</tr>\n",
       "<tr>\n",
       "  <th>Df Residuals:</th>          <td>   170</td>      <th>  BIC:               </th> <td>   1139.</td>\n",
       "</tr>\n",
       "<tr>\n",
       "  <th>Df Model:</th>              <td>     6</td>      <th>                     </th>     <td> </td>   \n",
       "</tr>\n",
       "<tr>\n",
       "  <th>Covariance Type:</th>      <td>nonrobust</td>    <th>                     </th>     <td> </td>   \n",
       "</tr>\n",
       "</table>\n",
       "<table class=\"simpletable\">\n",
       "<tr>\n",
       "      <td></td>         <th>coef</th>     <th>std err</th>      <th>t</th>      <th>P>|t|</th>  <th>[0.025</th>    <th>0.975]</th>  \n",
       "</tr>\n",
       "<tr>\n",
       "  <th>const</th>     <td>   69.1624</td> <td>    0.540</td> <td>  128.130</td> <td> 0.000</td> <td>   68.097</td> <td>   70.228</td>\n",
       "</tr>\n",
       "<tr>\n",
       "  <th>GDPPC</th>     <td>    0.0001</td> <td> 2.57e-05</td> <td>    4.215</td> <td> 0.000</td> <td> 5.76e-05</td> <td>    0.000</td>\n",
       "</tr>\n",
       "<tr>\n",
       "  <th>MfgMn$</th>    <td>-7.703e-06</td> <td>  5.4e-06</td> <td>   -1.428</td> <td> 0.155</td> <td>-1.84e-05</td> <td> 2.95e-06</td>\n",
       "</tr>\n",
       "<tr>\n",
       "  <th>AgriMn$</th>   <td> 3.245e-05</td> <td> 2.79e-05</td> <td>    1.164</td> <td> 0.246</td> <td>-2.26e-05</td> <td> 8.75e-05</td>\n",
       "</tr>\n",
       "<tr>\n",
       "  <th>CO2kt</th>     <td> 1.893e-06</td> <td> 3.05e-06</td> <td>    0.620</td> <td> 0.536</td> <td>-4.13e-06</td> <td> 7.92e-06</td>\n",
       "</tr>\n",
       "<tr>\n",
       "  <th>HealthPC$</th> <td>    0.0015</td> <td>    0.000</td> <td>    4.118</td> <td> 0.000</td> <td>    0.001</td> <td>    0.002</td>\n",
       "</tr>\n",
       "<tr>\n",
       "  <th>Pop_mn</th>    <td>   -0.0144</td> <td>    0.009</td> <td>   -1.557</td> <td> 0.121</td> <td>   -0.033</td> <td>    0.004</td>\n",
       "</tr>\n",
       "</table>\n",
       "<table class=\"simpletable\">\n",
       "<tr>\n",
       "  <th>Omnibus:</th>       <td>15.367</td> <th>  Durbin-Watson:     </th> <td>   2.076</td>\n",
       "</tr>\n",
       "<tr>\n",
       "  <th>Prob(Omnibus):</th> <td> 0.000</td> <th>  Jarque-Bera (JB):  </th> <td>  17.174</td>\n",
       "</tr>\n",
       "<tr>\n",
       "  <th>Skew:</th>          <td>-0.760</td> <th>  Prob(JB):          </th> <td>0.000187</td>\n",
       "</tr>\n",
       "<tr>\n",
       "  <th>Kurtosis:</th>      <td> 3.136</td> <th>  Cond. No.          </th> <td>1.28e+06</td>\n",
       "</tr>\n",
       "</table><br/><br/>Notes:<br/>[1] Standard Errors assume that the covariance matrix of the errors is correctly specified.<br/>[2] The condition number is large, 1.28e+06. This might indicate that there are<br/>strong multicollinearity or other numerical problems."
      ],
      "text/plain": [
       "<class 'statsmodels.iolib.summary.Summary'>\n",
       "\"\"\"\n",
       "                            OLS Regression Results                            \n",
       "==============================================================================\n",
       "Dep. Variable:                      y   R-squared:                       0.449\n",
       "Model:                            OLS   Adj. R-squared:                  0.430\n",
       "Method:                 Least Squares   F-statistic:                     23.13\n",
       "Date:                Sat, 25 Nov 2023   Prob (F-statistic):           7.23e-20\n",
       "Time:                        15:24:45   Log-Likelihood:                -551.18\n",
       "No. Observations:                 177   AIC:                             1116.\n",
       "Df Residuals:                     170   BIC:                             1139.\n",
       "Df Model:                           6                                         \n",
       "Covariance Type:            nonrobust                                         \n",
       "==============================================================================\n",
       "                 coef    std err          t      P>|t|      [0.025      0.975]\n",
       "------------------------------------------------------------------------------\n",
       "const         69.1624      0.540    128.130      0.000      68.097      70.228\n",
       "GDPPC          0.0001   2.57e-05      4.215      0.000    5.76e-05       0.000\n",
       "MfgMn$     -7.703e-06    5.4e-06     -1.428      0.155   -1.84e-05    2.95e-06\n",
       "AgriMn$     3.245e-05   2.79e-05      1.164      0.246   -2.26e-05    8.75e-05\n",
       "CO2kt       1.893e-06   3.05e-06      0.620      0.536   -4.13e-06    7.92e-06\n",
       "HealthPC$      0.0015      0.000      4.118      0.000       0.001       0.002\n",
       "Pop_mn        -0.0144      0.009     -1.557      0.121      -0.033       0.004\n",
       "==============================================================================\n",
       "Omnibus:                       15.367   Durbin-Watson:                   2.076\n",
       "Prob(Omnibus):                  0.000   Jarque-Bera (JB):               17.174\n",
       "Skew:                          -0.760   Prob(JB):                     0.000187\n",
       "Kurtosis:                       3.136   Cond. No.                     1.28e+06\n",
       "==============================================================================\n",
       "\n",
       "Notes:\n",
       "[1] Standard Errors assume that the covariance matrix of the errors is correctly specified.\n",
       "[2] The condition number is large, 1.28e+06. This might indicate that there are\n",
       "strong multicollinearity or other numerical problems.\n",
       "\"\"\""
      ]
     },
     "execution_count": 97,
     "metadata": {},
     "output_type": "execute_result"
    }
   ],
   "source": [
    "data_4_c = sma.add_constant(data_4)\n",
    "model_results_4 = sma.OLS(LifeExpect_4, data_4_c).fit()\n",
    "model_results_4.summary()"
   ]
  }
 ],
 "metadata": {
  "kernelspec": {
   "display_name": "base",
   "language": "python",
   "name": "python3"
  },
  "language_info": {
   "codemirror_mode": {
    "name": "ipython",
    "version": 3
   },
   "file_extension": ".py",
   "mimetype": "text/x-python",
   "name": "python",
   "nbconvert_exporter": "python",
   "pygments_lexer": "ipython3",
   "version": "3.9.13"
  }
 },
 "nbformat": 4,
 "nbformat_minor": 2
}
